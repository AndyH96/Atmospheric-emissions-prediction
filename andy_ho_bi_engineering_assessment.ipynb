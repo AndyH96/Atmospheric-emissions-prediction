{
  "nbformat": 4,
  "nbformat_minor": 0,
  "metadata": {
    "colab": {
      "provenance": [],
      "toc_visible": true,
      "authorship_tag": "ABX9TyOqEjPYcpn542eNFn0vWAyR",
      "include_colab_link": true
    },
    "kernelspec": {
      "name": "python3",
      "display_name": "Python 3"
    },
    "language_info": {
      "name": "python"
    }
  },
  "cells": [
    {
      "cell_type": "markdown",
      "metadata": {
        "id": "view-in-github",
        "colab_type": "text"
      },
      "source": [
        "<a href=\"https://colab.research.google.com/github/AndyH96/Atmospheric-emissions-prediction/blob/main/andy_ho_bi_engineering_assessment.ipynb\" target=\"_parent\"><img src=\"https://colab.research.google.com/assets/colab-badge.svg\" alt=\"Open In Colab\"/></a>"
      ]
    },
    {
      "cell_type": "markdown",
      "source": [
        "Importing sqlite3 to access the necessary functions for SQL\n",
        "\n"
      ],
      "metadata": {
        "id": "8QWa4w3lkCwu"
      }
    },
    {
      "cell_type": "code",
      "execution_count": 122,
      "metadata": {
        "id": "0Svm-bNd5mqf",
        "colab": {
          "base_uri": "https://localhost:8080/"
        },
        "outputId": "2b1d3d97-dd6e-4122-ee52-7e9659618b09"
      },
      "outputs": [
        {
          "output_type": "execute_result",
          "data": {
            "text/plain": [
              "<sqlite3.Cursor at 0x7f167a06bc40>"
            ]
          },
          "metadata": {},
          "execution_count": 122
        }
      ],
      "source": [
        "import sqlite3\n",
        "conn = sqlite3.connect('assessment.db')\n",
        "cursor = conn.cursor()\n",
        "# Drop the table if it exists\n",
        "cursor.execute(\"DROP TABLE IF EXISTS Trades\")\n",
        "cursor.execute(\"DROP TABLE IF EXISTS Traders\")\n",
        "cursor.execute(\"DROP TABLE IF EXISTS Deals\")\n",
        "cursor.execute(\"DROP TABLE IF EXISTS Profit\")"
      ]
    },
    {
      "cell_type": "markdown",
      "source": [
        "# Creating necessary datasets"
      ],
      "metadata": {
        "id": "MlBvsEcmeaXp"
      }
    },
    {
      "cell_type": "code",
      "source": [
        "conn.execute ('''\n",
        "CREATE TABLE Trades (\n",
        "      Tradenumber varchar(4) NOT NULL,\n",
        "      MatchId varchar(2) NOT NULL,\n",
        "      Volume int NOT NULL,\n",
        "      Price decimal(4, 2) NOT NULL,\n",
        "      Direction varchar(4) NOT NULL,\n",
        "PRIMARY KEY (Tradenumber)\n",
        "); '''\n",
        ")\n",
        "conn.commit()\n",
        "print('Trades table created')"
      ],
      "metadata": {
        "colab": {
          "base_uri": "https://localhost:8080/"
        },
        "id": "4r18k_mR7fCZ",
        "outputId": "a8b3e546-a244-452f-c040-d271af195de5"
      },
      "execution_count": 123,
      "outputs": [
        {
          "output_type": "stream",
          "name": "stdout",
          "text": [
            "Trades table created\n"
          ]
        }
      ]
    },
    {
      "cell_type": "code",
      "source": [
        "conn.execute ('''\n",
        "CREATE TABLE Traders (\n",
        "      TraderCode varchar(2) NOT NULL,\n",
        "      TraderName varchar(20) NOT NULL,\n",
        "      TraderTarget int NOT NULL,\n",
        "PRIMARY KEY (TraderCode)\n",
        "); '''\n",
        ")\n",
        "conn.commit()\n",
        "print('Traders table created')"
      ],
      "metadata": {
        "id": "1ETsUtLe91JD",
        "colab": {
          "base_uri": "https://localhost:8080/"
        },
        "outputId": "969650ea-71a9-407c-8ccd-c498c645d0fe"
      },
      "execution_count": 124,
      "outputs": [
        {
          "output_type": "stream",
          "name": "stdout",
          "text": [
            "Traders table created\n"
          ]
        }
      ]
    },
    {
      "cell_type": "code",
      "source": [
        "conn.execute ('''\n",
        "CREATE TABLE Deals (\n",
        "      MatchId varchar(2) NOT NULL,\n",
        "      MatchedDate date NOT NULL,\n",
        "      TraderCode varchar(2) NOT NULL,\n",
        "PRIMARY KEY (MatchId),\n",
        "FOREIGN KEY (TraderCode) REFERENCES Traders(TraderCode)\n",
        "); '''\n",
        ")\n",
        "conn.commit()\n",
        "print('Deals table created')"
      ],
      "metadata": {
        "id": "V1sJr6_y90fO",
        "colab": {
          "base_uri": "https://localhost:8080/"
        },
        "outputId": "9fe97af7-2282-47cc-b638-10ffef618a68"
      },
      "execution_count": 125,
      "outputs": [
        {
          "output_type": "stream",
          "name": "stdout",
          "text": [
            "Deals table created\n"
          ]
        }
      ]
    },
    {
      "cell_type": "code",
      "source": [
        "conn.execute(\"INSERT INTO Trades (Tradenumber, MatchId, Volume, Price, Direction) VALUES \\\n",
        "  ('T001', 'M1', 1000, 0.10, 'Buy'),\\\n",
        "  ('T002', 'M2', 100, 0.12, 'Buy'),\\\n",
        "  ('T003', 'M3', 400, 0.11, 'Buy'),\\\n",
        "  ('T004', 'M4', 1500, 0.09, 'Buy'),\\\n",
        "  ('T005', 'M5', 600, 0.13, 'Buy'),\\\n",
        "  ('T006', 'M3', 400, 0.15, 'Sell'),\\\n",
        "  ('T007', 'M2', 100, 0.16, 'Sell'),\\\n",
        "  ('T008', 'M5', 600, 0.14, 'Sell'),\\\n",
        "  ('T009', 'M4', 1500, 0.12, 'Sell'),\\\n",
        "  ('T010', 'M1', 1000, 0.12, 'Sell')\")\n",
        "conn.commit()\n",
        "\n",
        "print('Trades table created')"
      ],
      "metadata": {
        "id": "2-dFpMao77QW",
        "colab": {
          "base_uri": "https://localhost:8080/"
        },
        "outputId": "7b2ec4e9-9933-4c29-8711-6d513b5ae77b"
      },
      "execution_count": 126,
      "outputs": [
        {
          "output_type": "stream",
          "name": "stdout",
          "text": [
            "Trades table created\n"
          ]
        }
      ]
    },
    {
      "cell_type": "code",
      "source": [
        "conn.execute(\"INSERT INTO Traders (TraderCode, TraderName, TraderTarget) VALUES \\\n",
        "  ('AB', 'Arber', 40), \\\n",
        "  ('RA', 'Riccardo', 20), \\\n",
        "  ('CM', 'Cornelius', 20)\")\n",
        "\n",
        "conn.commit()\n",
        "\n",
        "print('Traders table created')"
      ],
      "metadata": {
        "id": "72x_c2kZ-P6f",
        "colab": {
          "base_uri": "https://localhost:8080/"
        },
        "outputId": "58ae98e9-3b05-43c6-932e-4cb9d6e11501"
      },
      "execution_count": 127,
      "outputs": [
        {
          "output_type": "stream",
          "name": "stdout",
          "text": [
            "Traders table created\n"
          ]
        }
      ]
    },
    {
      "cell_type": "code",
      "source": [
        "conn.execute(\"INSERT INTO Deals (MatchId, MatchedDate, TraderCode) VALUES \\\n",
        "  ('M1', '2023-04-01', 'RA'),\\\n",
        "  ('M2', '2023-04-01', 'AB'),\\\n",
        "  ('M3', '2023-04-03', 'CM'),\\\n",
        "  ('M4', '2023-04-04', 'AB'),\\\n",
        "  ('M5', '2023-04-06', 'RA')\")\n",
        "\n",
        "conn.commit()\n",
        "\n",
        "print('Deals table created')"
      ],
      "metadata": {
        "id": "NjQm-STa-PZ8",
        "colab": {
          "base_uri": "https://localhost:8080/"
        },
        "outputId": "c4b42455-ffa5-4edd-eb6b-e9b4f15d3931"
      },
      "execution_count": 128,
      "outputs": [
        {
          "output_type": "stream",
          "name": "stdout",
          "text": [
            "Deals table created\n"
          ]
        }
      ]
    },
    {
      "cell_type": "markdown",
      "source": [
        "# Task 1: SQL Skills\n"
      ],
      "metadata": {
        "id": "IHHXXHtsei7Y"
      }
    },
    {
      "cell_type": "markdown",
      "source": [
        "Question 1: Calculate the total sold volume."
      ],
      "metadata": {
        "id": "U8cLCG7TDudt"
      }
    },
    {
      "cell_type": "code",
      "source": [
        "conn = sqlite3.connect('assessment.db')\n",
        "cursor = conn.execute('''\n",
        "SELECT SUM(volume) as TotalSoldVolume \n",
        "FROM Trades \n",
        "WHERE Direction = 'Sell'\n",
        "''')\n",
        "for row in cursor:\n",
        "  print('The total volume sold is:', row[0])"
      ],
      "metadata": {
        "colab": {
          "base_uri": "https://localhost:8080/"
        },
        "id": "RAsfMI8tCyJB",
        "outputId": "9f127177-4e96-47cd-f40c-15789524ba30"
      },
      "execution_count": 129,
      "outputs": [
        {
          "output_type": "stream",
          "name": "stdout",
          "text": [
            "The total volume sold is: 3600\n"
          ]
        }
      ]
    },
    {
      "cell_type": "markdown",
      "source": [
        "Question 2: Calculate the weighted average buy price."
      ],
      "metadata": {
        "id": "mjWxEjRZDwfa"
      }
    },
    {
      "cell_type": "code",
      "source": [
        "conn = sqlite3.connect('assessment.db')\n",
        "cursor = conn.execute('''\n",
        "SELECT SUM(volume * price) / SUM(volume) as WeightedAverageBuyPrice \n",
        "FROM Trades \n",
        "WHERE Direction = 'Buy'\n",
        "\n",
        "''')\n",
        "for row in cursor:\n",
        "  print('The weighted average buy price is:', row[0])\n"
      ],
      "metadata": {
        "colab": {
          "base_uri": "https://localhost:8080/"
        },
        "id": "Ku3NUpkFDpgy",
        "outputId": "cdf63a48-3639-4d5d-9b3d-668b6ae7c11a"
      },
      "execution_count": 130,
      "outputs": [
        {
          "output_type": "stream",
          "name": "stdout",
          "text": [
            "The weighted average buy price is: 0.1025\n"
          ]
        }
      ]
    },
    {
      "cell_type": "markdown",
      "source": [
        "Question 3: Calculate the profit per deal."
      ],
      "metadata": {
        "id": "uYSVn0WCERzr"
      }
    },
    {
      "cell_type": "code",
      "source": [
        "# Creating a profit per deal table as it could be multi-functional \n",
        "conn.execute ('''\n",
        "CREATE TABLE Profit (\n",
        "  MatchId VARCHAR(10),\n",
        "  ProfitPerDeal DECIMAL(10,2)\n",
        "\n",
        "); '''\n",
        ")\n",
        "conn.commit()\n",
        "print('Profit table created')\n"
      ],
      "metadata": {
        "colab": {
          "base_uri": "https://localhost:8080/"
        },
        "id": "kT7dVCKoEPBm",
        "outputId": "0a396445-b59f-4f86-cd59-afba0530c156"
      },
      "execution_count": 131,
      "outputs": [
        {
          "output_type": "stream",
          "name": "stdout",
          "text": [
            "Profit table created\n"
          ]
        }
      ]
    },
    {
      "cell_type": "code",
      "source": [
        "conn.execute('''\n",
        "    INSERT INTO Profit (MatchId, ProfitPerDeal)\n",
        "    SELECT DISTINCT MatchId, (SUM(CASE WHEN Direction = 'Buy' THEN -1 ELSE 1 END * volume * price)) as ProfitPerDeal\n",
        "    FROM Trades\n",
        "    GROUP BY MatchId\n",
        "''')\n",
        "\n",
        "cursor = conn.execute('SELECT * FROM Profit')\n",
        "for row in cursor:\n",
        "  print('MatchId:', row[0], 'Profit Per Deal:', row[1])"
      ],
      "metadata": {
        "colab": {
          "base_uri": "https://localhost:8080/"
        },
        "id": "MGJeHO2dEv-8",
        "outputId": "e87931f6-7424-4d49-cb52-f488e834fbba"
      },
      "execution_count": 132,
      "outputs": [
        {
          "output_type": "stream",
          "name": "stdout",
          "text": [
            "MatchId: M1 Profit Per Deal: 20\n",
            "MatchId: M2 Profit Per Deal: 4\n",
            "MatchId: M3 Profit Per Deal: 16\n",
            "MatchId: M4 Profit Per Deal: 45\n",
            "MatchId: M5 Profit Per Deal: 6.000000000000014\n"
          ]
        }
      ]
    },
    {
      "cell_type": "markdown",
      "source": [
        "Question 5: Identify the trader who did the second most profit."
      ],
      "metadata": {
        "id": "UPV5bU-WTquE"
      }
    },
    {
      "cell_type": "code",
      "source": [
        "cursor = conn.execute('''\n",
        "WITH second_most_profit AS (\n",
        "    SELECT  \n",
        "        t.TraderCode, \n",
        "        t.TraderName,\n",
        "        SUM(p.ProfitPerDeal) AS TotalProfit,\n",
        "        RANK() OVER (ORDER BY SUM(p.ProfitPerDeal) DESC) AS row\n",
        "    FROM Profit AS p\n",
        "    LEFT JOIN Deals AS d ON d.MatchId = p.MatchId\n",
        "    LEFT JOIN Traders AS t ON t.TraderCode = d.TraderCode\n",
        "    GROUP BY t.TraderCode, t.TraderName\n",
        ")\n",
        "SELECT TraderName, TraderCode, TotalProfit\n",
        "FROM second_most_profit\n",
        "WHERE row = 2\n",
        "\n",
        "''')\n",
        "for row in cursor:\n",
        "    print('The trader with the second most profit is:', row[0], 'TraderName:', row[1], 'TotalProfit', row[2])\n"
      ],
      "metadata": {
        "colab": {
          "base_uri": "https://localhost:8080/"
        },
        "id": "lwTLyP6SEQjd",
        "outputId": "f817dbfc-a409-4e2c-f282-4343a4b82425"
      },
      "execution_count": 133,
      "outputs": [
        {
          "output_type": "stream",
          "name": "stdout",
          "text": [
            "The trader with the second most profit is: Riccardo TraderName: RA TotalProfit 26.000000000000014\n"
          ]
        }
      ]
    },
    {
      "cell_type": "markdown",
      "source": [
        "Question 6: Calculate the total profit per every day of the period between the 1st and the 10th of April, both included."
      ],
      "metadata": {
        "id": "sjf1IQ-Cve8M"
      }
    },
    {
      "cell_type": "code",
      "source": [
        "cursor = conn.execute('''\n",
        "WITH daily_profit AS ( \n",
        "    SELECT date(MatchedDate) AS Date, \n",
        "       SUM(p.ProfitPerDeal) AS TotalProfit\n",
        "FROM Profit AS p\n",
        "    LEFT JOIN Deals AS d ON d.MatchId = p.MatchId\n",
        "    LEFT JOIN Traders AS t ON t.TraderCode = d.TraderCode\n",
        "WHERE MatchedDate BETWEEN '2023-04-01' AND '2023-04-10'\n",
        "GROUP BY date(MatchedDate)\n",
        ")\n",
        "SELECT Date,\n",
        "       SUM(TotalProfit) AS DailyProfit\n",
        "FROM daily_profit\n",
        "GROUP BY Date\n",
        "''')\n",
        "\n",
        "for row in cursor:\n",
        "    print('Date:', row[0], 'DailyProfit:', row[1])\n"
      ],
      "metadata": {
        "colab": {
          "base_uri": "https://localhost:8080/"
        },
        "id": "pFwdfVUtEQ-k",
        "outputId": "82af86c9-c142-4e8e-9e69-e5bae4d8da18"
      },
      "execution_count": 134,
      "outputs": [
        {
          "output_type": "stream",
          "name": "stdout",
          "text": [
            "Date: 2023-04-01 DailyProfit: 24\n",
            "Date: 2023-04-03 DailyProfit: 16\n",
            "Date: 2023-04-04 DailyProfit: 45\n",
            "Date: 2023-04-06 DailyProfit: 6.000000000000014\n"
          ]
        }
      ]
    },
    {
      "cell_type": "markdown",
      "source": [
        "Question 7: Calculate the cumulative profit for the period between the first and the 10th of April, both included."
      ],
      "metadata": {
        "id": "ROjXD1qddpXh"
      }
    },
    {
      "cell_type": "code",
      "source": [
        "cursor = conn.execute('''\n",
        "WITH daily_profit AS ( \n",
        "    SELECT date(MatchedDate) AS Date, \n",
        "    SUM(p.ProfitPerDeal) AS DailyProfit\n",
        "    FROM Profit AS p\n",
        "    LEFT JOIN Deals AS d ON d.MatchId = p.MatchId\n",
        "    LEFT JOIN Traders AS t ON t.TraderCode = d.TraderCode\n",
        "    WHERE MatchedDate BETWEEN '2023-04-01' AND '2023-04-10'\n",
        "    GROUP BY date(MatchedDate)\n",
        "),\n",
        "cumulative_profit AS (\n",
        "    SELECT Date, \n",
        "    SUM(DailyProfit) OVER (ORDER BY Date) AS CumulativeProfit\n",
        "    FROM daily_profit\n",
        ")\n",
        "SELECT Date, CumulativeProfit\n",
        "FROM cumulative_profit\n",
        "''')\n",
        "\n",
        "for row in cursor:\n",
        "    print('Date:', row[0], 'Cumulative Profit To Date:', row[1])"
      ],
      "metadata": {
        "colab": {
          "base_uri": "https://localhost:8080/"
        },
        "id": "NiJpBpXZd7dW",
        "outputId": "4cc64f02-324a-4829-9c6f-a205b5a1dbe8"
      },
      "execution_count": 135,
      "outputs": [
        {
          "output_type": "stream",
          "name": "stdout",
          "text": [
            "Date: 2023-04-01 Cumulative Profit To Date: 24\n",
            "Date: 2023-04-03 Cumulative Profit To Date: 40\n",
            "Date: 2023-04-04 Cumulative Profit To Date: 85\n",
            "Date: 2023-04-06 Cumulative Profit To Date: 91.00000000000001\n"
          ]
        }
      ]
    }
  ]
}